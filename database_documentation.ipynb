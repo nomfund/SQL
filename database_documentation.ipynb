{
 "cells": [
  {
   "cell_type": "markdown",
   "metadata": {},
   "source": [
    "## Umuzi Data Warehouse\n",
    "\n",
    "\n",
    "Table of Contents\n",
    "\n",
    "\n",
    "Accessing MySQL\n",
    "\n",
    "\n",
    "Available databases\n",
    "\n",
    "\n",
    "Available tables\n",
    "\n",
    "\n"
   ]
  },
  {
   "cell_type": "markdown",
   "metadata": {},
   "source": [
    "## Accessing MySQL"
   ]
  },
  {
   "cell_type": "markdown",
   "metadata": {},
   "source": [
    "mysql -u root -p -h 127.0.0.1 -P 3306\n",
    "\n"
   ]
  },
  {
   "cell_type": "markdown",
   "metadata": {},
   "source": [
    "## Available databases"
   ]
  },
  {
   "cell_type": "markdown",
   "metadata": {},
   "source": [
    "mysql> SHOW DATABASES;\n",
    "+--------------------+\n",
    "| Database           |\n",
    "+--------------------+\n",
    "| information_schema |\n",
    "| Umuzi              |\n",
    "| mysql              |\n",
    "| performance_schema |\n",
    "| sys                |\n",
    "+--------------------+\n"
   ]
  },
  {
   "cell_type": "markdown",
   "metadata": {},
   "source": [
    "## Available tables"
   ]
  },
  {
   "cell_type": "code",
   "execution_count": null,
   "metadata": {},
   "outputs": [],
   "source": [
    "mysql> SHOW TABLES;\n",
    "+-----------------+\n",
    "| Tables_in_Umuzi |\n",
    "+-----------------+\n",
    "| Customers       |\n",
    "| Employees       |\n",
    "| Orders          |\n",
    "| Payments        |\n",
    "| Products        |\n",
    "+-----------------+"
   ]
  },
  {
   "cell_type": "markdown",
   "metadata": {},
   "source": [
    "Customer table contains customer details such as :FirstName,LastName,Gender etc.There are 9 columns in this table.\n",
    "\n",
    "\n",
    "\n",
    "Employeees table contains employees information such as firstName,LastName etc. There are 5 columns in this table.\n",
    "\n",
    "\n",
    "\n",
    "Orders table contains order information such as Date Required. There are  5 columns in this table.\n",
    "\n",
    "\n",
    "\n",
    "Payments table contains information about payments such as PaymentDate. There are 3 columns in this table.\n",
    "\n",
    "\n",
    "\n",
    "Products table contains information about products sudh as Productname. There are 4 columns in this table."
   ]
  },
  {
   "cell_type": "markdown",
   "metadata": {},
   "source": [
    "# Describe command\n",
    "Syntax\n",
    "\n",
    "DESCRIBE { table-Name | view-Name }\n",
    "\n",
    "Description\n",
    "\n",
    "Provides a decription of the specified table or view."
   ]
  },
  {
   "cell_type": "markdown",
   "metadata": {},
   "source": [
    "# describing the Customers table\n"
   ]
  },
  {
   "cell_type": "code",
   "execution_count": null,
   "metadata": {},
   "outputs": [],
   "source": [
    "mysql> DESCRIBE Customers;\n",
    "+------------+-----------------------+------+-----+---------+----------------+\n",
    "| Field      | Type                  | Null | Key | Default | Extra          |\n",
    "+------------+-----------------------+------+-----+---------+----------------+\n",
    "| customerID | int(10) unsigned      | NO   | PRI | NULL    | auto_increment |\n",
    "| firstName  | varchar(30)           | NO   |     | NULL    |                |\n",
    "| lastName   | varchar(30)           | NO   |     | NULL    |                |\n",
    "| gender     | enum('Male','Female') | NO   |     | NULL    |                |\n",
    "| address    | varchar(60)           | NO   |     | NULL    |                |\n",
    "| phone      | int(15)               | NO   |     | NULL    |                |\n",
    "| email      | varchar(30)           | NO   |     | NULL    |                |\n",
    "| city       | varchar(60)           | NO   |     | NULL    |                |\n",
    "| country    | varchar(60)           | NO   |     | NULL    |                |\n",
    "+------------+-----------------------+------+-----+---------+----------------+\n",
    "9 rows in set (0.03 sec)\n"
   ]
  },
  {
   "cell_type": "markdown",
   "metadata": {},
   "source": [
    "# Describing the Employees table"
   ]
  },
  {
   "cell_type": "code",
   "execution_count": null,
   "metadata": {},
   "outputs": [],
   "source": [
    "mysql> DESCRIBE Employees;\n",
    "+------------+------------------+------+-----+---------+----------------+\n",
    "| Field      | Type             | Null | Key | Default | Extra          |\n",
    "+------------+------------------+------+-----+---------+----------------+\n",
    "| EmployeeID | int(10) unsigned | NO   | PRI | NULL    | auto_increment |\n",
    "| firstName  | varchar(50)      | NO   |     | NULL    |                |\n",
    "| lastName   | varchar(50)      | NO   |     | NULL    |                |\n",
    "| email      | varchar(50)      | NO   |     | NULL    |                |\n",
    "| jobTitle   | varchar(100)     | NO   |     | NULL    |                |\n",
    "+------------+------------------+------+-----+---------+----------------+\n",
    "5 rows in set (0.00 sec)\n",
    "\n"
   ]
  },
  {
   "cell_type": "markdown",
   "metadata": {},
   "source": [
    "# Descibing the Orders table"
   ]
  },
  {
   "cell_type": "code",
   "execution_count": null,
   "metadata": {},
   "outputs": [],
   "source": [
    "mysql> DESCRIBE Orders;\n",
    "+--------------+------------------+------+-----+---------+----------------+\n",
    "| Field        | Type             | Null | Key | Default | Extra          |\n",
    "+--------------+------------------+------+-----+---------+----------------+\n",
    "| OrdersID     | int(10) unsigned | NO   | PRI | NULL    | auto_increment |\n",
    "| OrderDate    | datetime         | YES  |     | NULL    |                |\n",
    "| RequiredDate | datetime         | YES  |     | NULL    |                |\n",
    "| ShippedDate  | datetime         | YES  |     | NULL    |                |\n",
    "| Status       | varchar(100)     | YES  |     | NULL    |                |\n",
    "+--------------+------------------+------+-----+---------+----------------+\n",
    "5 rows in set (0.00 sec)\n"
   ]
  },
  {
   "cell_type": "markdown",
   "metadata": {},
   "source": [
    "# Describing the payments table"
   ]
  },
  {
   "cell_type": "code",
   "execution_count": null,
   "metadata": {},
   "outputs": [],
   "source": [
    "mysql> DESCRIBE Payments;\n",
    "+-------------+------------------+------+-----+---------+----------------+\n",
    "| Field       | Type             | Null | Key | Default | Extra          |\n",
    "+-------------+------------------+------+-----+---------+----------------+\n",
    "| customerID  | int(10) unsigned | NO   | PRI | NULL    | auto_increment |\n",
    "| PaymentDate | datetime         | YES  |     | NULL    |                |\n",
    "| Amount      | decimal(10,0)    | YES  |     | NULL    |                |\n",
    "+-------------+------------------+------+-----+---------+----------------+\n",
    "3 rows in set (0.00 sec)\n"
   ]
  },
  {
   "cell_type": "markdown",
   "metadata": {},
   "source": [
    "# DESCRIBING THE PRODUCTS TABLE"
   ]
  },
  {
   "cell_type": "code",
   "execution_count": null,
   "metadata": {},
   "outputs": [],
   "source": [
    "mysql> DESCRIBE Products;\n",
    "+-------------+------------------+------+-----+---------+----------------+\n",
    "| Field       | Type             | Null | Key | Default | Extra          |\n",
    "+-------------+------------------+------+-----+---------+----------------+\n",
    "| ProductId   | int(10) unsigned | NO   | PRI | NULL    | auto_increment |\n",
    "| ProductName | varchar(100)     | NO   |     | NULL    |                |\n",
    "| Description | varchar(500)     | NO   |     | NULL    |                |\n",
    "| BuyPrice    | varchar(500)     | YES  |     | NULL    |                |\n",
    "+-------------+------------------+------+-----+---------+----------------+\n",
    "4 rows in set (0.00 sec)\n"
   ]
  },
  {
   "cell_type": "markdown",
   "metadata": {},
   "source": [
    "# WHAT OUR TABLES LOOK LIKE"
   ]
  },
  {
   "cell_type": "markdown",
   "metadata": {},
   "source": [
    "# 1.CUSTOMER TABLE"
   ]
  },
  {
   "cell_type": "code",
   "execution_count": null,
   "metadata": {},
   "outputs": [],
   "source": [
    "mysql> SELECT * FROM Customers;\n",
    "+------------+-----------+----------+--------+-----------------------+-----------+------------------------+--------------+--------------+\n",
    "| customerID | firstName | lastName | gender | address               | phone     | email                  | city         | country      |\n",
    "+------------+-----------+----------+--------+-----------------------+-----------+------------------------+--------------+--------------+\n",
    "|          1 | Lerato    | Mabitso  | Male   | 284 chaucer st        |  84789657 | john@gmail.com         | Johannesburg | South Africa |\n",
    "|          3 | Leon      | Glen     | Male   | 81 Everton Rd,Gillits | 820832830 | Leon@gmail.com         | Durban       | South Africa |\n",
    "|          4 | Charl     | Muller   | Male   | 290A Dorset Ecke      | 856872553 | Charl.muller@yahoo.com | Berlin       | Germany      |\n",
    "|          5 | Julia     | Stein    | Female | 2 Wernerring          | 672445058 | Js234@yahoo.com        | Frankfurt    | Germany      |\n",
    "+------------+-----------+----------+--------+-----------------------+-----------+------------------------+--------------+--------------+\n",
    "4 rows in set (0.00 sec)\n"
   ]
  },
  {
   "cell_type": "markdown",
   "metadata": {},
   "source": [
    "# 2.EMPLOYEES TABLE"
   ]
  },
  {
   "cell_type": "code",
   "execution_count": null,
   "metadata": {},
   "outputs": [],
   "source": [
    "mysql> SELECT * FROM Employees;\n",
    "+------------+-----------+----------+----------------+------------+\n",
    "| EmployeeID | firstName | lastName | email          | jobTitle   |\n",
    "+------------+-----------+----------+----------------+------------+\n",
    "|          1 | Kani      | Matthew  | Kmat@gmail.com | Manager    |\n",
    "|          2 | Lesly     | Cronje   | LesC@gmail.com | Clerk      |\n",
    "|          3 | Gideon    | Maduku   | Gm@gmail.com   | Accountant |\n",
    "+------------+-----------+----------+----------------+------------+\n",
    "3 rows in set (0.00 sec)\n"
   ]
  },
  {
   "cell_type": "markdown",
   "metadata": {},
   "source": [
    "# 3.ORDERS TABLE"
   ]
  },
  {
   "cell_type": "code",
   "execution_count": null,
   "metadata": {},
   "outputs": [],
   "source": [
    "mysql> SELECT * FROM Orders;\n",
    "+----------+---------------------+---------------------+---------------------+-------------+\n",
    "| OrdersID | OrderDate           | RequiredDate        | ShippedDate         | Status      |\n",
    "+----------+---------------------+---------------------+---------------------+-------------+\n",
    "|        1 | 2018-01-09 00:00:00 | 2018-05-09 00:00:00 | 2018-02-09 00:00:00 | Not Shipped |\n",
    "|        2 | 2018-01-09 00:00:00 | 2018-04-09 00:00:00 | 2018-03-09 00:00:00 | Shipped     |\n",
    "|        3 | 2018-01-09 00:00:00 | 2018-03-09 00:00:00 | 2018-02-09 00:00:00 | Not shipped |\n",
    "+----------+---------------------+---------------------+---------------------+-------------+\n",
    "3 rows in set (0.00 sec)\n"
   ]
  },
  {
   "cell_type": "markdown",
   "metadata": {},
   "source": [
    "# 4.PAYMENTS TABLE"
   ]
  },
  {
   "cell_type": "code",
   "execution_count": null,
   "metadata": {},
   "outputs": [],
   "source": [
    "mysql> SELECT * FROM Payments;\n",
    "+------------+---------------------+--------+\n",
    "| customerID | PaymentDate         | Amount |\n",
    "+------------+---------------------+--------+\n",
    "|          1 | 2018-01-09 00:00:00 |    100 |\n",
    "|          2 | 2018-01-09 00:00:00 |    251 |\n",
    "+------------+---------------------+--------+\n",
    "2 rows in set (0.00 sec)\n"
   ]
  },
  {
   "cell_type": "markdown",
   "metadata": {},
   "source": [
    "# 5.PRODUCTS TABLE"
   ]
  },
  {
   "cell_type": "code",
   "execution_count": null,
   "metadata": {},
   "outputs": [],
   "source": [
    "mysql> SELECT * FROM Products;\n",
    "+-----------+-------------------------+-----------------------------------------------------------------------------+----------+\n",
    "| ProductId | ProductName             | Description                                                                 | BuyPrice |\n",
    "+-----------+-------------------------+-----------------------------------------------------------------------------+----------+\n",
    "|         1 | Harley Davidson Chopper | This replica features working kickstand, front suspension, gear-shift lever | 151      |\n",
    "|         2 | Classic Car             | Turnable front wheels, steering function                                    | 551      |\n",
    "|         3 | Sports car              | Turnable front wheels, steering function                                    | 701      |\n",
    "+-----------+-------------------------+-----------------------------------------------------------------------------+----------+\n",
    "3 rows in set (0.00 sec)\n"
   ]
  },
  {
   "cell_type": "markdown",
   "metadata": {},
   "source": [
    "# COMMANDS THAT I MADE USE ON OUR DATASET AND EXPLAINATION OF THEIR USES"
   ]
  },
  {
   "cell_type": "markdown",
   "metadata": {},
   "source": [
    "# The SQL CREATE DATABASE Statement\n",
    "\n",
    "The CREATE DATABASE statement is used to create a new SQL database.\n",
    "Syntax\n",
    "CREATE DATABASE databasename;\n",
    "\n",
    "\n",
    "# The SQL CREATE TABLE Statement\n",
    "\n",
    "The CREATE TABLE statement is used to create a new table in a database.\n",
    "Syntax\n",
    "CREATE TABLE table_name (\n",
    "    column1 datatype,\n",
    "    column2 datatype,\n",
    "    column3 datatype,\n",
    "   ....\n",
    ");\n",
    "\n",
    "\n",
    "# THE SQL ALTER TABLE Statement\n",
    "\n",
    "The ALTER TABLE statement is used to add, delete, or modify columns in an existing table.\n",
    "\n",
    "The ALTER TABLE statement is also used to add and drop various constraints on an existing table.\n",
    "ALTER TABLE - ADD Column\n",
    "\n",
    "To add a column in a table, use the following syntax:\n",
    "ALTER TABLE table_name\n",
    "ADD column_name datatype; \n",
    "\n",
    "\n",
    "\n",
    "## Aggregate functions are used when we want to perform some calculation on the data in a database. SQL provides a few functions, called aggregate functions, to help out with calculations.\n",
    "\n",
    "# THE FOLLOWING AGGREGATE FUNCTIONS ARE THE ONES THAT I USED ON MY DATABASE.\n",
    "\n",
    "The SQL COUNT(), AVG() and SUM() Functions\n",
    "\n",
    "The COUNT() function returns the number of rows that matches a specified criteria.\n",
    "\n",
    "The AVG() function returns the average value of a numeric column.\n",
    "\n",
    "The SUM() function returns the total sum of a numeric column.\n",
    "\n",
    "# Combining aggregate functions with WHERE Aggregate functions can be combined with the WHERE clause to gain further insights from your data.\n",
    "\n",
    "The SQL WHERE Clause\n",
    "\n",
    "The WHERE clause is used to filter records.\n",
    "\n",
    "The WHERE clause is used to extract only those records that fulfill a specified condition.\n",
    "WHERE Syntax\n",
    "SELECT column1, column2, ...\n",
    "FROM table_name\n",
    "WHERE condition; \n",
    "\n",
    "# The SQL SELECT Statement\n",
    "\n",
    "The SELECT statement is used to select data from a database.\n",
    "\n",
    "The data returned is stored in a result table, called the result-set.\n",
    "SELECT Syntax\n",
    "SELECT column1, column2, ...\n",
    "FROM table_name; \n",
    "\n",
    "The SQL INSERT INTO SELECT Statement\n",
    "\n",
    "The INSERT INTO SELECT statement copies data from one table and inserts it into another table.\n",
    "\n",
    "    INSERT INTO SELECT requires that data types in source and target tables match\n",
    "    The existing records in the target table are unaffected\n",
    "\n",
    "INSERT INTO SELECT Syntax\n",
    "\n",
    "Copy all columns from one table to another table:\n",
    "INSERT INTO table2\n",
    "SELECT * FROM table1\n",
    "WHERE condition; "
   ]
  },
  {
   "cell_type": "code",
   "execution_count": null,
   "metadata": {},
   "outputs": [],
   "source": []
  }
 ],
 "metadata": {
  "kernelspec": {
   "display_name": "Python 3",
   "language": "python",
   "name": "python3"
  },
  "language_info": {
   "codemirror_mode": {
    "name": "ipython",
    "version": 3
   },
   "file_extension": ".py",
   "mimetype": "text/x-python",
   "name": "python",
   "nbconvert_exporter": "python",
   "pygments_lexer": "ipython3",
   "version": "3.6.5"
  }
 },
 "nbformat": 4,
 "nbformat_minor": 2
}
